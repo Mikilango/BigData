{
 "cells": [
  {
   "cell_type": "raw",
   "source": [
    "\\begin{equation*}\n",
    "\\left(sum_{k = 1}^n a_k b_k\\right)^2\n",
    "\\end_{equation*}"
   ],
   "metadata": {
    "collapsed": false
   },
   "id": "2d162d2dfb7e2444"
  },
  {
   "cell_type": "code",
   "execution_count": null,
   "outputs": [],
   "source": [],
   "metadata": {
    "collapsed": false
   },
   "id": "de94a646731d5afe"
  },
  {
   "cell_type": "markdown",
   "source": [
    "\\begin{equation*}\n",
    "\\left(sum_{k = 1}^n a_k b_k\\right)^2\n",
    "\\end_{equation*}"
   ],
   "metadata": {
    "collapsed": false
   },
   "id": "9677a42b15654978"
  },
  {
   "cell_type": "markdown",
   "source": [
    "\\begin{equation*}\n",
    "\\left(sum_{k = 1}^n a_k b_k\\right)^2\n",
    "\\end_{equation*}"
   ],
   "metadata": {
    "collapsed": false
   },
   "id": "e25fd4d85724ae21"
  },
  {
   "cell_type": "raw",
   "source": [
    "\\begin{equation*}\n",
    "\\left(sum_{k = 1}^n a_k b_k\\right)^2\n",
    "\\end_{equation*}"
   ],
   "metadata": {
    "collapsed": false
   },
   "id": "c249c769dcf01404"
  },
  {
   "cell_type": "markdown",
   "source": [
    "\\begin{equation*}\n",
    "\\left(sum_{k = 1}^n a_k b_k\\right)^2\n",
    "\\end_{equation*}"
   ],
   "metadata": {
    "collapsed": false
   },
   "id": "aca03a889282e3d0"
  },
  {
   "cell_type": "code",
   "execution_count": 3,
   "outputs": [],
   "source": [],
   "metadata": {
    "collapsed": false,
    "ExecuteTime": {
     "end_time": "2023-09-14T12:05:29.139833600Z",
     "start_time": "2023-09-14T12:05:29.121049700Z"
    }
   },
   "id": "7d0149d88fff2bbd"
  },
  {
   "cell_type": "code",
   "execution_count": null,
   "outputs": [],
   "source": [],
   "metadata": {
    "collapsed": false
   },
   "id": "41bb6497173b5105"
  }
 ],
 "metadata": {
  "kernelspec": {
   "display_name": "Python 3",
   "language": "python",
   "name": "python3"
  },
  "language_info": {
   "codemirror_mode": {
    "name": "ipython",
    "version": 2
   },
   "file_extension": ".py",
   "mimetype": "text/x-python",
   "name": "python",
   "nbconvert_exporter": "python",
   "pygments_lexer": "ipython2",
   "version": "2.7.6"
  }
 },
 "nbformat": 4,
 "nbformat_minor": 5
}
