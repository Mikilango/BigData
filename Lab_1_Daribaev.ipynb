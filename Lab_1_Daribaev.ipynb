{
 "cells": [
  {
   "cell_type": "code",
   "execution_count": 17,
   "id": "6c99677f4d924305",
   "metadata": {
    "collapsed": false,
    "ExecuteTime": {
     "end_time": "2023-09-15T21:09:16.933191300Z",
     "start_time": "2023-09-15T21:09:16.883119500Z"
    }
   },
   "outputs": [
    {
     "name": "stdout",
     "output_type": "stream",
     "text": [
      "Hello World!\n"
     ]
    }
   ],
   "source": [
    "print('Hello World!')"
   ]
  },
  {
   "cell_type": "code",
   "execution_count": 18,
   "id": "96106121d6e55fd",
   "metadata": {
    "collapsed": false,
    "ExecuteTime": {
     "end_time": "2023-09-15T21:09:16.997806900Z",
     "start_time": "2023-09-15T21:09:16.944681Z"
    }
   },
   "outputs": [
    {
     "name": "stdout",
     "output_type": "stream",
     "text": [
      "7\n"
     ]
    }
   ],
   "source": [
    "print?\n",
    "i = 7 \n",
    "print(i)"
   ]
  },
  {
   "cell_type": "code",
   "execution_count": 19,
   "id": "1d2d0f4d8951b507",
   "metadata": {
    "collapsed": false,
    "ExecuteTime": {
     "end_time": "2023-09-15T21:09:17.004406400Z",
     "start_time": "2023-09-15T21:09:16.953232800Z"
    }
   },
   "outputs": [
    {
     "name": "stdout",
     "output_type": "stream",
     "text": [
      "<class 'int'>\n"
     ]
    }
   ],
   "source": [
    "a = 10\n",
    "t = type(a)\n",
    "print(t)"
   ]
  },
  {
   "cell_type": "code",
   "execution_count": 20,
   "id": "e07f7dcf852ae812",
   "metadata": {
    "collapsed": false,
    "ExecuteTime": {
     "end_time": "2023-09-15T21:09:17.004476Z",
     "start_time": "2023-09-15T21:09:16.964192900Z"
    }
   },
   "outputs": [
    {
     "name": "stdout",
     "output_type": "stream",
     "text": [
      "Это строка\n"
     ]
    }
   ],
   "source": [
    "i = 5\n",
    "type(i)\n",
    "f = 2.5\n",
    "type(f)\n",
    "b = True\n",
    "type(b)\n",
    "s = 'Это строка'\n",
    "print(s)"
   ]
  },
  {
   "cell_type": "code",
   "execution_count": 21,
   "id": "fee6c0f1f4630d72",
   "metadata": {
    "collapsed": false,
    "ExecuteTime": {
     "end_time": "2023-09-15T21:09:17.004476Z",
     "start_time": "2023-09-15T21:09:16.984721200Z"
    }
   },
   "outputs": [
    {
     "name": "stdout",
     "output_type": "stream",
     "text": [
      "[4, 2, 3]\n",
      "{'foo': 1, 'bar': 2.3, 's': 'my first dictionary'}\n",
      "1\n"
     ]
    },
    {
     "data": {
      "text/plain": "NoneType"
     },
     "execution_count": 21,
     "metadata": {},
     "output_type": "execute_result"
    }
   ],
   "source": [
    "l = [4, 2, 3]\n",
    "print(l)\n",
    "d = {'foo':1, 'bar': 2.3, 's':'my first dictionary'}\n",
    "print(d)\n",
    "print(d['foo'])\n",
    "n = None\n",
    "type(n)"
   ]
  },
  {
   "cell_type": "code",
   "execution_count": 22,
   "id": "f02fb531f456a9df",
   "metadata": {
    "collapsed": false,
    "ExecuteTime": {
     "end_time": "2023-09-15T21:09:17.013109700Z",
     "start_time": "2023-09-15T21:09:16.993421300Z"
    }
   },
   "outputs": [
    {
     "name": "stdout",
     "output_type": "stream",
     "text": [
      "{'foo': 2, 'bar': 5.5, 's': 'my first dictionary'}\n"
     ]
    }
   ],
   "source": [
    "d = {'foo' : 2, 'bar' : 5.5, 's' : 'my first dictionary'}\n",
    "print(d)"
   ]
  },
  {
   "cell_type": "code",
   "execution_count": 23,
   "id": "b745be2146faf68d",
   "metadata": {
    "collapsed": false,
    "ExecuteTime": {
     "end_time": "2023-09-15T21:09:17.134739800Z",
     "start_time": "2023-09-15T21:09:17.013109700Z"
    }
   },
   "outputs": [
    {
     "name": "stdout",
     "output_type": "stream",
     "text": [
      "Возведение числа 2 в куб 8.0\n"
     ]
    }
   ],
   "source": [
    "import math\n",
    "p = math.pow(2, 3)\n",
    "print('Возведение числа 2 в куб', p)"
   ]
  },
  {
   "cell_type": "code",
   "execution_count": 24,
   "id": "16ffe6b1933e39da",
   "metadata": {
    "collapsed": false,
    "ExecuteTime": {
     "end_time": "2023-09-15T21:09:17.153374400Z",
     "start_time": "2023-09-15T21:09:17.024354700Z"
    }
   },
   "outputs": [
    {
     "name": "stdout",
     "output_type": "stream",
     "text": [
      "Наше первое значение True. Наше второе значение 10.\n"
     ]
    }
   ],
   "source": [
    "i = 10\n",
    "n = True\n",
    "print('Наше первое значение %s. Наше второе значение %s.' %(n, i))"
   ]
  },
  {
   "cell_type": "code",
   "execution_count": 25,
   "id": "e08cf84b073304ad",
   "metadata": {
    "collapsed": false,
    "ExecuteTime": {
     "end_time": "2023-09-15T21:09:17.154591800Z",
     "start_time": "2023-09-15T21:09:17.044953Z"
    }
   },
   "outputs": [
    {
     "name": "stdout",
     "output_type": "stream",
     "text": [
      "i or f are both greater than 5.\n"
     ]
    }
   ],
   "source": [
    "i = 5\n",
    "f = 5.1\n",
    "if i == 1 and f > 5:\n",
    "  print(\"The value of i is 1 and f is greater than 5.\")\n",
    "elif i > 5 or f > 5:\n",
    "  print('i or f are both greater than 5.')\n",
    "else:\n",
    "  print('both i and f are less than or equal to 5')"
   ]
  },
  {
   "cell_type": "code",
   "execution_count": 26,
   "id": "d0b6f3d9cd650c",
   "metadata": {
    "collapsed": false,
    "ExecuteTime": {
     "end_time": "2023-09-15T21:09:17.154591800Z",
     "start_time": "2023-09-15T21:09:17.054746100Z"
    }
   },
   "outputs": [
    {
     "name": "stdout",
     "output_type": "stream",
     "text": [
      "[5, 3, 1]\n",
      "5\n",
      "3\n",
      "1\n"
     ]
    }
   ],
   "source": [
    "l = [5, 3, 1]\n",
    "print(l)\n",
    "\n",
    "for e in l:\n",
    "  print(e)"
   ]
  },
  {
   "cell_type": "code",
   "execution_count": 27,
   "id": "f4a77b91b54de9f6",
   "metadata": {
    "collapsed": false,
    "ExecuteTime": {
     "end_time": "2023-09-15T21:09:17.154591800Z",
     "start_time": "2023-09-15T21:09:17.094573800Z"
    }
   },
   "outputs": [
    {
     "name": "stdout",
     "output_type": "stream",
     "text": [
      "Число от 0 до 50: 0\n",
      "Число от 0 до 50: 1\n",
      "Число от 0 до 50: 2\n",
      "Число от 0 до 50: 3\n",
      "Число от 0 до 50: 4\n",
      "Число от 0 до 50: 5\n",
      "Число от 0 до 50: 6\n",
      "Число от 0 до 50: 7\n",
      "Число от 0 до 50: 8\n",
      "Число от 0 до 50: 9\n",
      "Число от 0 до 50: 10\n",
      "Число от 0 до 50: 11\n",
      "Число от 0 до 50: 12\n",
      "Число от 0 до 50: 13\n",
      "Число от 0 до 50: 14\n",
      "Число от 0 до 50: 15\n",
      "Число от 0 до 50: 16\n",
      "Число от 0 до 50: 17\n",
      "Число от 0 до 50: 18\n",
      "Число от 0 до 50: 19\n"
     ]
    }
   ],
   "source": [
    "for n in range (20):\n",
    "  print('Число от 0 до 50:', n)"
   ]
  },
  {
   "cell_type": "code",
   "execution_count": 28,
   "id": "253fca63e8261f16",
   "metadata": {
    "collapsed": false,
    "ExecuteTime": {
     "end_time": "2023-09-15T21:09:27.211441Z",
     "start_time": "2023-09-15T21:09:17.103313100Z"
    }
   },
   "outputs": [
    {
     "name": "stdout",
     "output_type": "stream",
     "text": [
      "Number: 0\n",
      "Number: 1\n",
      "Number: 2\n",
      "Number: 3\n",
      "Number: 4\n",
      "Number: 5\n",
      "Number: 6\n",
      "Number: 7\n",
      "Number: 8\n",
      "Number: 9\n"
     ]
    }
   ],
   "source": [
    "import time \n",
    "for n in range(10):\n",
    "  time.sleep(1)\n",
    "  print('Number:', n)"
   ]
  },
  {
   "cell_type": "code",
   "execution_count": 29,
   "id": "b5b9986b12b6846c",
   "metadata": {
    "collapsed": false,
    "ExecuteTime": {
     "end_time": "2023-09-15T21:09:27.258991700Z",
     "start_time": "2023-09-15T21:09:27.213080100Z"
    }
   },
   "outputs": [
    {
     "name": "stdout",
     "output_type": "stream",
     "text": [
      "10\n",
      "11\n",
      "12\n",
      "13\n",
      "14\n"
     ]
    }
   ],
   "source": [
    "from itertools import count\n",
    "counter = 10\n",
    "while counter <  15:\n",
    "  print(counter)\n",
    "  counter += 1"
   ]
  },
  {
   "cell_type": "code",
   "execution_count": 30,
   "id": "46c57fac294c3033",
   "metadata": {
    "collapsed": false,
    "ExecuteTime": {
     "end_time": "2023-09-15T21:09:27.270082Z",
     "start_time": "2023-09-15T21:09:27.233510300Z"
    }
   },
   "outputs": [
    {
     "data": {
      "text/plain": "8"
     },
     "execution_count": 30,
     "metadata": {},
     "output_type": "execute_result"
    }
   ],
   "source": [
    "def add2(x):\n",
    "  y = x + 3\n",
    "  return y\n",
    "\n",
    "i = 5 \n",
    "add2(i)"
   ]
  },
  {
   "cell_type": "code",
   "execution_count": 31,
   "id": "5bef388721631b8f",
   "metadata": {
    "collapsed": false,
    "ExecuteTime": {
     "end_time": "2023-09-15T21:09:27.271078500Z",
     "start_time": "2023-09-15T21:09:27.247699100Z"
    }
   },
   "outputs": [
    {
     "data": {
      "text/plain": "64"
     },
     "execution_count": 31,
     "metadata": {},
     "output_type": "execute_result"
    }
   ],
   "source": [
    "sqr = lambda x : x*x\n",
    "sqr(8)"
   ]
  },
  {
   "cell_type": "code",
   "execution_count": 32,
   "id": "c3396a6f04e56872",
   "metadata": {
    "collapsed": false,
    "ExecuteTime": {
     "end_time": "2023-09-15T21:09:27.280118700Z",
     "start_time": "2023-09-15T21:09:27.264653100Z"
    }
   },
   "outputs": [
    {
     "name": "stdout",
     "output_type": "stream",
     "text": [
      "24\n"
     ]
    }
   ],
   "source": [
    "x = lambda a, b, c, d: a * b * c * d\n",
    "print(x(1, 2, 3, 4))"
   ]
  },
  {
   "cell_type": "markdown",
   "id": "ed6ca1c8db3ad049",
   "metadata": {
    "collapsed": false
   },
   "source": [
    "<h1> Заголовок </h1>\n",
    "<h2> Заголовок </h2>\n",
    "<h3> Заголовок </h3>\n",
    "<h4> Заголовок </h4>\n",
    "<h5> Заголовок </h5>\n",
    "<h6> Заголовок </h6>\n"
   ]
  },
  {
   "cell_type": "markdown",
   "id": "3fd1fdb12a323544",
   "metadata": {
    "collapsed": false
   },
   "source": [
    "<img src='data:image/jpeg;base64,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' >"
   ]
  },
  {
   "cell_type": "markdown",
   "id": "3158ba45c54c1436",
   "metadata": {
    "collapsed": false
   },
   "source": [
    "\\begin{equation*}\n",
    "\\left(sum_{k=1}^n a_k b_k\\right)^2\n",
    "\\end{equation*}"
   ]
  },
  {
   "cell_type": "raw",
   "source": [
    "\\begin{equation*}\n",
    "\\(E=mc^2\\)\n",
    "\\end{equation*}"
   ],
   "metadata": {
    "collapsed": false
   },
   "id": "23f2839f46b656f4"
  },
  {
   "cell_type": "code",
   "execution_count": 6,
   "outputs": [
    {
     "name": "stdout",
     "output_type": "stream",
     "text": [
      "\n",
      "Ќ бва®©Є  Їа®в®Є®«  IP ¤«п Windows\n",
      "\n",
      "\n",
      "Ђ¤ ЇвҐа Ethernet Ethernet:\n",
      "\n",
      "   ‘®бв®п­ЁҐ баҐ¤л. . . . . . . . : ‘аҐ¤  ЇҐаҐ¤ зЁ ­Ґ¤®бвгЇ­ .\n",
      "   DNS-бгддЁЄб Ї®¤Є«озҐ­Ёп . . . . . : \n",
      "\n",
      "Ђ¤ ЇвҐа Ethernet Ethernet 2:\n",
      "\n",
      "   DNS-бгддЁЄб Ї®¤Є«озҐ­Ёп . . . . . : \n",
      "   ‹®Є «м­л© IPv6- ¤аҐб Є ­ «  . . . : fe80::b9fe:5155:5edd:6ba5%19\n",
      "   IPv4- ¤аҐб. . . . . . . . . . . . : 192.168.56.1\n",
      "   Њ бЄ  Ї®¤бҐвЁ . . . . . . . . . . : 255.255.255.0\n",
      "   Ћб­®ў­®© и«о§. . . . . . . . . : \n",
      "\n",
      "Ђ¤ ЇвҐа ЎҐбЇа®ў®¤­®© «®Є «м­®© бҐвЁ Џ®¤Є«озҐ­ЁҐ Ї® «®Є «м­®© бҐвЁ* 1:\n",
      "\n",
      "   ‘®бв®п­ЁҐ баҐ¤л. . . . . . . . : ‘аҐ¤  ЇҐаҐ¤ зЁ ­Ґ¤®бвгЇ­ .\n",
      "   DNS-бгддЁЄб Ї®¤Є«озҐ­Ёп . . . . . : \n",
      "\n",
      "Ђ¤ ЇвҐа ЎҐбЇа®ў®¤­®© «®Є «м­®© бҐвЁ Џ®¤Є«озҐ­ЁҐ Ї® «®Є «м­®© бҐвЁ* 10:\n",
      "\n",
      "   ‘®бв®п­ЁҐ баҐ¤л. . . . . . . . : ‘аҐ¤  ЇҐаҐ¤ зЁ ­Ґ¤®бвгЇ­ .\n",
      "   DNS-бгддЁЄб Ї®¤Є«озҐ­Ёп . . . . . : \n",
      "\n",
      "Ђ¤ ЇвҐа ЎҐбЇа®ў®¤­®© «®Є «м­®© бҐвЁ ЃҐбЇа®ў®¤­ п бҐвм:\n",
      "\n",
      "   DNS-бгддЁЄб Ї®¤Є«озҐ­Ёп . . . . . : \n",
      "   ‹®Є «м­л© IPv6- ¤аҐб Є ­ «  . . . : fe80::a871:c738:a75e:5485%3\n",
      "   IPv4- ¤аҐб. . . . . . . . . . . . : 172.20.10.3\n",
      "   Њ бЄ  Ї®¤бҐвЁ . . . . . . . . . . : 255.255.255.240\n",
      "   Ћб­®ў­®© и«о§. . . . . . . . . : 172.20.10.1\n"
     ]
    }
   ],
   "source": [
    "! ipconfig"
   ],
   "metadata": {
    "collapsed": false,
    "ExecuteTime": {
     "end_time": "2023-09-21T09:55:49.760899600Z",
     "start_time": "2023-09-21T09:55:49.461712700Z"
    }
   },
   "id": "60b61c5828ebd48a"
  },
  {
   "cell_type": "code",
   "execution_count": null,
   "outputs": [],
   "source": [
    "! ping google.com"
   ],
   "metadata": {
    "collapsed": false
   },
   "id": "2a7339679509e462"
  }
 ],
 "metadata": {
  "kernelspec": {
   "display_name": "Python 3 (ipykernel)",
   "language": "python",
   "name": "python3"
  },
  "language_info": {
   "codemirror_mode": {
    "name": "ipython",
    "version": 3
   },
   "file_extension": ".py",
   "mimetype": "text/x-python",
   "name": "python",
   "nbconvert_exporter": "python",
   "pygments_lexer": "ipython3",
   "version": "3.9.13"
  }
 },
 "nbformat": 4,
 "nbformat_minor": 5
}
